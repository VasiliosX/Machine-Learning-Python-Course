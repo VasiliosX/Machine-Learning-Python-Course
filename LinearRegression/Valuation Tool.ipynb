{
 "cells": [
  {
   "cell_type": "code",
   "execution_count": 60,
   "metadata": {},
   "outputs": [],
   "source": [
    "from sklearn.datasets import load_boston\n",
    "from sklearn.linear_model import LinearRegression\n",
    "from sklearn.metrics import mean_squared_error\n",
    "import pandas as pd\n",
    "import numpy as np"
   ]
  },
  {
   "cell_type": "code",
   "execution_count": 61,
   "metadata": {},
   "outputs": [
    {
     "name": "stdout",
     "output_type": "stream",
     "text": [
      "      CRIM    ZN  CHAS    NOX     RM     DIS  RAD    TAX  PTRATIO       B  \\\n",
      "0  0.00632  18.0   0.0  0.538  6.575  4.0900  1.0  296.0     15.3  396.90   \n",
      "1  0.02731   0.0   0.0  0.469  6.421  4.9671  2.0  242.0     17.8  396.90   \n",
      "2  0.02729   0.0   0.0  0.469  7.185  4.9671  2.0  242.0     17.8  392.83   \n",
      "3  0.03237   0.0   0.0  0.458  6.998  6.0622  3.0  222.0     18.7  394.63   \n",
      "4  0.06905   0.0   0.0  0.458  7.147  6.0622  3.0  222.0     18.7  396.90   \n",
      "\n",
      "   LSTAT  \n",
      "0   4.98  \n",
      "1   9.14  \n",
      "2   4.03  \n",
      "3   2.94  \n",
      "4   5.33  \n"
     ]
    }
   ],
   "source": [
    "#Gather Data\n",
    "boston_dataset=load_boston()\n",
    "data=pd.DataFrame(data=boston_dataset.data, columns=boston_dataset.feature_names)\n",
    "data.head()\n",
    "features=data.drop(['INDUS', 'AGE'],axis=1)\n",
    "print(features.head())\n",
    "\n",
    "log_prices=np.log(boston_dataset.target)\n",
    "\n",
    "#We need to convert log_prices to a dataframe in order to be compatible with the features dataset\n",
    "target=pd.DataFrame(log_prices, columns=['PRICE'])"
   ]
  },
  {
   "cell_type": "code",
   "execution_count": 62,
   "metadata": {},
   "outputs": [
    {
     "name": "stdout",
     "output_type": "stream",
     "text": [
      "[[ 3.61352356 11.36363636  0.06916996  0.          0.          0.\n",
      "   0.          0.          0.          0.          0.        ]]\n"
     ]
    }
   ],
   "source": [
    "#Creating a row in order to predict\n",
    "property_stats=np.ndarray(shape=(1,11))\n",
    "\n",
    "#We create indices for ease\n",
    "CRIME_IDX=0\n",
    "ZN_IDX=1\n",
    "CHAS_IDX=2\n",
    "RM_IDX=4\n",
    "PTRATIO_IDX=8\n",
    "\n",
    "#We create a datapoint, for each datapoint that we do not specify ourselves a value about the value is zero.\n",
    "property_stats[0][CRIME_IDX]=features['CRIM'].mean()\n",
    "property_stats[0][ZN_IDX]=features['ZN'].mean()\n",
    "property_stats[0][CHAS_IDX]=features['CHAS'].mean()\n",
    "\n",
    "print(property_stats)\n",
    "#Instead of specifying the value for each variable, we put them all at once."
   ]
  },
  {
   "cell_type": "code",
   "execution_count": 63,
   "metadata": {},
   "outputs": [
    {
     "name": "stdout",
     "output_type": "stream",
     "text": [
      "[[3.61352356e+00 1.13636364e+01 6.91699605e-02 5.54695059e-01\n",
      "  6.28463439e+00 3.79504269e+00 9.54940711e+00 4.08237154e+02\n",
      "  1.84555336e+01 3.56674032e+02 1.26530632e+01]]\n"
     ]
    }
   ],
   "source": [
    "#Adding the mean for each variable to the property_stats datapoint\n",
    "#We have to turn the features.mean() into a np.array and then reshape so that is is compatible with the property_stats structure\n",
    "property_stats=features.mean().values.reshape(1,11)\n",
    "print(property_stats)"
   ]
  },
  {
   "cell_type": "code",
   "execution_count": 64,
   "metadata": {},
   "outputs": [
    {
     "name": "stdout",
     "output_type": "stream",
     "text": [
      "MSE: 0.03516080084618688\n",
      "Root MSE 0.18751213519713034\n"
     ]
    }
   ],
   "source": [
    "regr=LinearRegression().fit(features,target)\n",
    "in_sample_pred=regr.predict(features)\n",
    "\n",
    "print('MSE:',mean_squared_error(target,in_sample_pred))\n",
    "print('Root MSE',np.sqrt(mean_squared_error(target,in_sample_pred)))\n",
    "\n",
    "RMSE=np.sqrt(mean_squared_error(target,in_sample_pred))"
   ]
  },
  {
   "cell_type": "code",
   "execution_count": 71,
   "metadata": {},
   "outputs": [],
   "source": [
    "def get_log_estimate(nr_rooms,students_per_classroom, next_river=False,  high_confidence=True):\n",
    "    \n",
    "    if students_per_classroom<1 or nr_rooms<1:\n",
    "        print('This is unrealistic')\n",
    "        return\n",
    "    \n",
    "    property_stats[0][PTRATIO_IDX]=students_per_classroom\n",
    "    property_stats[0][RM_IDX]=nr_rooms\n",
    "    if next_river:\n",
    "        property_stats[0][CHAS_IDX]=1\n",
    "    else:\n",
    "        property_stats[0][CHAS_IDX]=0\n",
    "    \n",
    "    \n",
    "    log_estimate=regr.predict(property_stats)\n",
    "    \n",
    "    if high_confidence:\n",
    "        upper_bound=log_estimate+2*RMSE\n",
    "        lower_bound=log_estimate-2*RMSE\n",
    "        interval=95\n",
    "    else:\n",
    "        upper_bound=log_estimate+RMSE\n",
    "        lower_bound=log_estimate-RMSE\n",
    "        interval=68\n",
    "    \n",
    "    return log_estimate, upper_bound,lower_bound,interval"
   ]
  },
  {
   "cell_type": "code",
   "execution_count": 72,
   "metadata": {},
   "outputs": [
    {
     "data": {
      "text/plain": [
       "(array([[2.58093695]]), array([[2.95596122]]), array([[2.20591268]]), 95)"
      ]
     },
     "execution_count": 72,
     "metadata": {},
     "output_type": "execute_result"
    }
   ],
   "source": [
    "get_log_estimate(2,20,next_river=False)"
   ]
  },
  {
   "cell_type": "code",
   "execution_count": 73,
   "metadata": {},
   "outputs": [],
   "source": [
    "#Function the returns the total value in today's terms (accounting for inflation)\n",
    "Current_boston_median_price=583.3\n",
    "prior_median_price=np.exp(np.median(target))\n",
    "scale=Current_boston_median_price/prior_median_price\n",
    "\n",
    "\n",
    "def convertion(x):\n",
    "    return np.around(1000*np.exp(x)*scale, -3)\n",
    "\n"
   ]
  },
  {
   "cell_type": "code",
   "execution_count": 79,
   "metadata": {},
   "outputs": [],
   "source": [
    "def get_dollar_estimate(nr_rooms,students_per_classroom, next_river=False,  high_confidence=True):\n",
    "    \"\"\" Estimate the price of a property in Boston\n",
    "    \n",
    "    \"\"\"\n",
    "    mean, upper, lower, inter = get_log_estimate(nr_rooms,students_per_classroom,next_river,high_confidence)\n",
    "    mean_in_dollars=convertion(mean)[0][0]\n",
    "    upper_in_dollars=convertion(upper)[0][0]\n",
    "    lower_in_dollars=convertion(lower)[0][0]\n",
    "    return mean_in_dollars, upper_in_dollars, lower_in_dollars, inter"
   ]
  },
  {
   "cell_type": "code",
   "execution_count": 80,
   "metadata": {},
   "outputs": [
    {
     "name": "stdout",
     "output_type": "stream",
     "text": [
      "Estimared Property Value: 278000.0 $\n",
      "Upper bound: 404000.0 $\n",
      "Lower bound 191000.0 $\n",
      "CI: 95 %\n"
     ]
    }
   ],
   "source": [
    "mean, upper, lower, inter = get_dollar_estimate(2,30,True)\n",
    "\n",
    "print('Estimared Property Value:',mean,'$')\n",
    "print('Upper bound:',upper,'$')\n",
    "print('Lower bound',lower,'$')\n",
    "print('CI:',inter,'%')"
   ]
  },
  {
   "cell_type": "code",
   "execution_count": 70,
   "metadata": {},
   "outputs": [
    {
     "data": {
      "text/plain": [
       "27.51415094339622"
      ]
     },
     "execution_count": 70,
     "metadata": {},
     "output_type": "execute_result"
    }
   ],
   "source": [
    "scale"
   ]
  },
  {
   "cell_type": "code",
   "execution_count": 82,
   "metadata": {},
   "outputs": [
    {
     "data": {
      "text/plain": [
       "(708000.0, 1030000.0, 486000.0, 95)"
      ]
     },
     "execution_count": 82,
     "metadata": {},
     "output_type": "execute_result"
    }
   ],
   "source": []
  },
  {
   "cell_type": "code",
   "execution_count": null,
   "metadata": {},
   "outputs": [],
   "source": []
  }
 ],
 "metadata": {
  "kernelspec": {
   "display_name": "Python 3",
   "language": "python",
   "name": "python3"
  },
  "language_info": {
   "codemirror_mode": {
    "name": "ipython",
    "version": 3
   },
   "file_extension": ".py",
   "mimetype": "text/x-python",
   "name": "python",
   "nbconvert_exporter": "python",
   "pygments_lexer": "ipython3",
   "version": "3.8.5"
  }
 },
 "nbformat": 4,
 "nbformat_minor": 4
}
